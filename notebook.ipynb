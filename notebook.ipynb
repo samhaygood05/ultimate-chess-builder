{
 "cells": [
  {
   "cell_type": "code",
   "execution_count": 1,
   "metadata": {
    "notebookRunGroups": {
     "groupValue": "1"
    }
   },
   "outputs": [],
   "source": [
    "from piece import PieceType, Piece\n",
    "from tile import TileType, Tile\n",
    "from team import TeamType, Team\n",
    "from util.condition import Condition\n",
    "from movement.mutator import Mutator\n",
    "from movement.moveset import Moveset\n",
    "import os\n",
    "\n",
    "loaded = {'pieces': {}, 'tiles': {}, 'teams': {}, 'conditions': {}, 'mutators': {}, 'movesets': {}}\n",
    "\n",
    "# get all files in games/default/data/teams and load them\n",
    "for filename in os.listdir('games/default/data/teams'):\n",
    "    if filename.endswith('.json'):\n",
    "        team = TeamType.build('games/default/data/teams/' + filename)\n",
    "        loaded['teams'][team.name] = team\n",
    "\n",
    "# get all files in games/default/data/pieces and load them\n",
    "for filename in os.listdir('games/default/data/pieces'):\n",
    "    if filename.endswith('.json'):\n",
    "        piece = PieceType.build('games/default/data/pieces/' + filename)\n",
    "        loaded['pieces'][piece.name] = piece\n",
    "\n",
    "# get all files in games/default/data/tiles and load them\n",
    "for filename in os.listdir('games/default/data/tiles'):\n",
    "    if filename.endswith('.json'):\n",
    "        tile = TileType.build('games/default/data/tiles/' + filename)\n",
    "        loaded['tiles'][tile.name] = tile\n",
    "\n",
    "# get all files in games/default/data/conditions and load them\n",
    "for filename in os.listdir('games/default/data/conditions'):\n",
    "    if filename.endswith('.json'):\n",
    "        condition = Condition.build_from_file('games/default/data/conditions/' + filename, loaded)\n",
    "        loaded['conditions'][condition.name] = condition\n",
    "\n",
    "for filename in os.listdir('games/default/data/mutators'):\n",
    "    if filename.endswith('.json'):\n",
    "        mutator = Mutator.build_from_file('games/default/data/mutators/' + filename, loaded)\n",
    "        loaded['mutators'][mutator.name] = mutator\n",
    "\n",
    "# get all files in games/default/data/movesets and load them\n",
    "for filename in os.listdir('games/default/data/movesets'):\n",
    "    if filename.endswith('.json'):\n",
    "        moveset = Moveset.build_from_file('games/default/data/movesets/' + filename, loaded)\n",
    "        loaded['movesets'][moveset.name] = moveset\n",
    "        \n",
    "# for each piece, build its movesets\n",
    "for key, piece in loaded['pieces'].items():\n",
    "    loaded['pieces'][key] = piece.build_movesets(loaded)\n",
    "\n",
    "# for each tile, build its mutators\n",
    "for key, tile in loaded['tiles'].items():\n",
    "   loaded['tiles'][key] = tile.build_movesets(loaded)"
   ]
  },
  {
   "cell_type": "code",
   "execution_count": 2,
   "metadata": {
    "notebookRunGroups": {
     "groupValue": "1"
    }
   },
   "outputs": [],
   "source": [
    "from board.subboard import SubBoard\n",
    "\n",
    "white_team = Team('white', 'default:basic', None, loaded=loaded['teams'])\n",
    "black_team = Team('black', 'default:basic', None, board_color=0x000000, loaded=loaded['teams'])\n",
    "\n",
    "teams = {\n",
    "    'default:white': white_team,\n",
    "    'default:black': black_team\n",
    "}\n",
    "\n",
    "tile_mappings = {f'board ({x}, {y})': Tile('default:normal', None, loaded['tiles']) for x in range(8) for y in range(8)}\n",
    "\n",
    "for x in range(8):\n",
    "    tile_mappings[f'board ({x}, 0)'] = Tile('default:promotion', None, loaded['tiles'], teams=['black'])\n",
    "    tile_mappings[f'board ({x}, 1)'].piece = Piece('default:pawn', ['default:white'], piece_types=loaded['pieces'])\n",
    "\n",
    "    tile_mappings[f'board ({x}, 7)'] = Tile('default:promotion', None, loaded['tiles'], teams=['white'])\n",
    "    tile_mappings[f'board ({x}, 6)'].piece = Piece('default:pawn', ['default:black'], piece_types=loaded['pieces'])\n",
    "\n",
    "tile_mappings['board (0, 0)'].piece = Piece('default:rook', ['default:white'], piece_types=loaded['pieces'])\n",
    "tile_mappings['board (1, 0)'].piece = Piece('default:knight', ['default:white'], piece_types=loaded['pieces'])\n",
    "tile_mappings['board (2, 0)'].piece = Piece('default:bishop', ['default:white'], piece_types=loaded['pieces'])\n",
    "tile_mappings['board (3, 0)'].piece = Piece('default:queen', ['default:white'], piece_types=loaded['pieces'])\n",
    "tile_mappings['board (4, 0)'].piece = Piece('default:king', ['default:white'], piece_types=loaded['pieces'])\n",
    "tile_mappings['board (5, 0)'].piece = Piece('default:bishop', ['default:white'], piece_types=loaded['pieces'])\n",
    "tile_mappings['board (6, 0)'].piece = Piece('default:knight', ['default:white'], piece_types=loaded['pieces'])\n",
    "tile_mappings['board (7, 0)'].piece = Piece('default:rook', ['default:white'], piece_types=loaded['pieces'])\n",
    "\n",
    "tile_mappings['board (0, 7)'].piece = Piece('default:rook', ['default:black'], piece_types=loaded['pieces'])\n",
    "tile_mappings['board (1, 7)'].piece = Piece('default:knight', ['default:black'], piece_types=loaded['pieces'])\n",
    "tile_mappings['board (2, 7)'].piece = Piece('default:bishop', ['default:black'], piece_types=loaded['pieces'])\n",
    "tile_mappings['board (3, 7)'].piece = Piece('default:queen', ['default:black'], piece_types=loaded['pieces'])\n",
    "tile_mappings['board (4, 7)'].piece = Piece('default:king', ['default:black'], piece_types=loaded['pieces'])\n",
    "tile_mappings['board (5, 7)'].piece = Piece('default:bishop', ['default:black'], piece_types=loaded['pieces'])\n",
    "tile_mappings['board (6, 7)'].piece = Piece('default:knight', ['default:black'], piece_types=loaded['pieces'])\n",
    "tile_mappings['board (7, 7)'].piece = Piece('default:rook', ['default:black'], piece_types=loaded['pieces'])\n",
    "\n",
    "# tile_mappings = {}\n",
    "\n",
    "connection_mappings = {}\n",
    "\n",
    "subboard = SubBoard(name = 'board', subboard_type = 'rectangular', \n",
    "                    x=8, y=8,\n",
    "                    tile_mappings=tile_mappings,\n",
    "                    connection_mappings=connection_mappings,\n",
    "                )"
   ]
  },
  {
   "cell_type": "code",
   "execution_count": 3,
   "metadata": {
    "notebookRunGroups": {
     "groupValue": "1"
    }
   },
   "outputs": [
    {
     "data": {
      "image/png": "[encoded data removed]",
      "text/plain": [
       "<Figure size 720x1080 with 1 Axes>"
      ]
     },
     "metadata": {},
     "output_type": "display_data"
    }
   ],
   "source": [
    "subboard.preview_render(pieces=loaded['pieces'], teams=teams)"
   ]
  },
  {
   "cell_type": "code",
   "execution_count": 4,
   "metadata": {},
   "outputs": [
    {
     "name": "stdout",
     "output_type": "stream",
     "text": [
      "Warning: When  cdn_resources is 'local' jupyter notebook has issues displaying graphics on chrome/safari. Use cdn_resources='in_line' or cdn_resources='remote' if you have issues viewing graphics in a notebook.\n",
      "board.html\n"
     ]
    },
    {
     "data": {
      "text/html": [
       "\n",
       "        <iframe\n",
       "            width=\"100vw\"\n",
       "            height=\"100vh\"\n",
       "            src=\"board.html\"\n",
       "            frameborder=\"0\"\n",
       "            allowfullscreen\n",
       "            \n",
       "        ></iframe>\n",
       "        "
      ],
      "text/plain": [
       "<IPython.lib.display.IFrame at 0x111bdfd00>"
      ]
     },
     "execution_count": 4,
     "metadata": {},
     "output_type": "execute_result"
    }
   ],
   "source": [
    "subboard.preview_structure(filter=[], filter_blacklist=True, use_pyvis=True, internal_connections=True)"
   ]
  }
 ],
 "metadata": {
  "kernelspec": {
   "display_name": "Python 3",
   "language": "python",
   "name": "python3"
  },
  "language_info": {
   "codemirror_mode": {
    "name": "ipython",
    "version": 3
   },
   "file_extension": ".py",
   "mimetype": "text/x-python",
   "name": "python",
   "nbconvert_exporter": "python",
   "pygments_lexer": "ipython3",
   "version": "3.10.10"
  }
 },
 "nbformat": 4,
 "nbformat_minor": 2
}
